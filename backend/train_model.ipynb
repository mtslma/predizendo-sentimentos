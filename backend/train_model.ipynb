{
 "cells": [
  {
   "cell_type": "code",
   "execution_count": 307,
   "id": "106c7518",
   "metadata": {},
   "outputs": [],
   "source": [
    "import pandas as pd\n",
    "from sklearn.model_selection import train_test_split\n",
    "from sklearn.feature_extraction.text import CountVectorizer\n",
    "from sklearn.naive_bayes import MultinomialNB\n",
    "from sklearn.linear_model import LogisticRegression\n",
    "from sklearn.svm import SVC\n",
    "from sklearn.metrics import classification_report, accuracy_score\n",
    "import pickle"
   ]
  },
  {
   "cell_type": "markdown",
   "id": "364c3274",
   "metadata": {},
   "source": [
    "### Definição do dataframe"
   ]
  },
  {
   "cell_type": "code",
   "execution_count": 308,
   "id": "fdcd10d0",
   "metadata": {},
   "outputs": [],
   "source": [
    "df = pd.read_csv('feedbacks.csv')"
   ]
  },
  {
   "cell_type": "markdown",
   "id": "96008b76",
   "metadata": {},
   "source": [
    "### Pré-processamento de dados"
   ]
  },
  {
   "cell_type": "code",
   "execution_count": 309,
   "id": "f7cfab5b",
   "metadata": {},
   "outputs": [],
   "source": [
    "X = df[\"mensagem\"]\n",
    "y = df[\"sentimento\"]\n",
    "\n",
    "# Separar dados em treino e teste\n",
    "X_train, X_test, y_train, y_test = train_test_split(X, y, test_size=0.2, random_state=42)\n",
    "\n",
    "# Vetorização\n",
    "vectorizer = CountVectorizer()\n",
    "X_train_vect = vectorizer.fit_transform(X_train)\n",
    "X_test_vect = vectorizer.transform(X_test)\n"
   ]
  },
  {
   "cell_type": "markdown",
   "id": "528a9992",
   "metadata": {},
   "source": [
    "### Treinando diferentes modelos e pegando o com melhor classificação"
   ]
  },
  {
   "cell_type": "code",
   "execution_count": 310,
   "id": "c1eb4ec1",
   "metadata": {},
   "outputs": [
    {
     "name": "stdout",
     "output_type": "stream",
     "text": [
      "Treinando modelo: Naive Bayes\n",
      "Acurácia (Naive Bayes): 0.8372093023255814\n",
      "Relatório de Classificação (Naive Bayes):\n",
      "               precision    recall  f1-score   support\n",
      "\n",
      "    Negativo       0.82      0.97      0.89        29\n",
      "    Positivo       0.89      0.57      0.70        14\n",
      "\n",
      "    accuracy                           0.84        43\n",
      "   macro avg       0.86      0.77      0.79        43\n",
      "weighted avg       0.84      0.84      0.83        43\n",
      "\n",
      "------------------------------\n",
      "Treinando modelo: Logistic Regression\n",
      "Acurácia (Logistic Regression): 0.8837209302325582\n",
      "Relatório de Classificação (Logistic Regression):\n",
      "               precision    recall  f1-score   support\n",
      "\n",
      "    Negativo       0.88      0.97      0.92        29\n",
      "    Positivo       0.91      0.71      0.80        14\n",
      "\n",
      "    accuracy                           0.88        43\n",
      "   macro avg       0.89      0.84      0.86        43\n",
      "weighted avg       0.89      0.88      0.88        43\n",
      "\n",
      "------------------------------\n",
      "Treinando modelo: SVM\n",
      "Acurácia (SVM): 0.8837209302325582\n",
      "Relatório de Classificação (SVM):\n",
      "               precision    recall  f1-score   support\n",
      "\n",
      "    Negativo       0.88      0.97      0.92        29\n",
      "    Positivo       0.91      0.71      0.80        14\n",
      "\n",
      "    accuracy                           0.88        43\n",
      "   macro avg       0.89      0.84      0.86        43\n",
      "weighted avg       0.89      0.88      0.88        43\n",
      "\n",
      "------------------------------\n"
     ]
    }
   ],
   "source": [
    "models = {\n",
    "    'Naive Bayes': MultinomialNB(),\n",
    "    'Logistic Regression': LogisticRegression(random_state=42, solver='liblinear'),\n",
    "    'SVM': SVC(random_state=42, kernel='linear')\n",
    "}\n",
    "\n",
    "best_model = None\n",
    "best_accuracy = 0\n",
    "best_report = None\n",
    "\n",
    "for name, model in models.items():\n",
    "    print(f\"Treinando modelo: {name}\")\n",
    "    model.fit(X_train_vect, y_train)\n",
    "    y_pred = model.predict(X_test_vect)\n",
    "    accuracy = accuracy_score(y_test, y_pred)\n",
    "    report = classification_report(y_test, y_pred)\n",
    "\n",
    "    print(f\"Acurácia ({name}):\", accuracy)\n",
    "    print(f\"Relatório de Classificação ({name}):\\n\", report)\n",
    "    print(\"-\" * 30)\n",
    "\n",
    "    if accuracy > best_accuracy:\n",
    "        best_accuracy = accuracy\n",
    "        best_model = model\n",
    "        best_report = report\n",
    "        best_model_name = name"
   ]
  },
  {
   "cell_type": "markdown",
   "id": "87ab7bad",
   "metadata": {},
   "source": [
    "### Classificação de acurácia do modelo"
   ]
  },
  {
   "cell_type": "code",
   "execution_count": 311,
   "id": "5383db2b",
   "metadata": {},
   "outputs": [
    {
     "name": "stdout",
     "output_type": "stream",
     "text": [
      "\n",
      "Melhor modelo encontrado: Logistic Regression\n",
      "Acurácia do melhor modelo: 0.8837209302325582\n",
      "\n",
      "\n",
      "Relatório de Classificação do melhor modelo:\n",
      "               precision    recall  f1-score   support\n",
      "\n",
      "    Negativo       0.88      0.97      0.92        29\n",
      "    Positivo       0.91      0.71      0.80        14\n",
      "\n",
      "    accuracy                           0.88        43\n",
      "   macro avg       0.89      0.84      0.86        43\n",
      "weighted avg       0.89      0.88      0.88        43\n",
      "\n"
     ]
    }
   ],
   "source": [
    "print(f\"\\nMelhor modelo encontrado: {best_model_name}\")\n",
    "print(f\"Acurácia do melhor modelo: {best_accuracy}\\n\\n\")\n",
    "print(f\"Relatório de Classificação do melhor modelo:\\n\", best_report)"
   ]
  },
  {
   "cell_type": "markdown",
   "id": "df8fc5f1",
   "metadata": {},
   "source": [
    "### Salvando o modelo"
   ]
  },
  {
   "cell_type": "code",
   "execution_count": null,
   "id": "18215a90",
   "metadata": {},
   "outputs": [],
   "source": [
    "with open(\"model_clf.pkl\", 'wb') as f:\n",
    "    pickle.dump({\n",
    "        \"model\": best_model,\n",
    "        \"vectorizer\": vectorizer,\n",
    "    }, f)"
   ]
  }
 ],
 "metadata": {
  "language_info": {
   "name": "python"
  }
 },
 "nbformat": 4,
 "nbformat_minor": 5
}
